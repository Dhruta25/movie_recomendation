{
 "cells": [
  {
   "cell_type": "code",
   "execution_count": 4,
   "id": "a12a7866-8fd1-4382-80d6-4dd24d7a7313",
   "metadata": {},
   "outputs": [],
   "source": [
    "import pandas as pd\n",
    "import numpy as np\n",
    "import matplotlib.pyplot as plt\n",
    "import seaborn as sbn\n",
    "import os"
   ]
  },
  {
   "cell_type": "code",
   "execution_count": 5,
   "id": "40660c89-5759-4f38-b1ae-104fdc488ea9",
   "metadata": {},
   "outputs": [],
   "source": [
    "credits = pd.read_csv('tmdb_5000_credits.csv')\n",
    "movies = pd.read_csv('tmdb_5000_movies.csv')"
   ]
  },
  {
   "cell_type": "code",
   "execution_count": 6,
   "id": "cfe7a0fe-e50e-4d25-9a73-f5abb4abbd12",
   "metadata": {},
   "outputs": [
    {
     "data": {
      "text/html": [
       "<div>\n",
       "<style scoped>\n",
       "    .dataframe tbody tr th:only-of-type {\n",
       "        vertical-align: middle;\n",
       "    }\n",
       "\n",
       "    .dataframe tbody tr th {\n",
       "        vertical-align: top;\n",
       "    }\n",
       "\n",
       "    .dataframe thead th {\n",
       "        text-align: right;\n",
       "    }\n",
       "</style>\n",
       "<table border=\"1\" class=\"dataframe\">\n",
       "  <thead>\n",
       "    <tr style=\"text-align: right;\">\n",
       "      <th></th>\n",
       "      <th>budget</th>\n",
       "      <th>genres</th>\n",
       "      <th>homepage</th>\n",
       "      <th>id</th>\n",
       "      <th>keywords</th>\n",
       "      <th>original_language</th>\n",
       "      <th>original_title</th>\n",
       "      <th>overview</th>\n",
       "      <th>popularity</th>\n",
       "      <th>production_companies</th>\n",
       "      <th>production_countries</th>\n",
       "      <th>release_date</th>\n",
       "      <th>revenue</th>\n",
       "      <th>runtime</th>\n",
       "      <th>spoken_languages</th>\n",
       "      <th>status</th>\n",
       "      <th>tagline</th>\n",
       "      <th>title</th>\n",
       "      <th>vote_average</th>\n",
       "      <th>vote_count</th>\n",
       "    </tr>\n",
       "  </thead>\n",
       "  <tbody>\n",
       "    <tr>\n",
       "      <th>0</th>\n",
       "      <td>237000000</td>\n",
       "      <td>[{\"id\": 28, \"name\": \"Action\"}, {\"id\": 12, \"nam...</td>\n",
       "      <td>http://www.avatarmovie.com/</td>\n",
       "      <td>19995</td>\n",
       "      <td>[{\"id\": 1463, \"name\": \"culture clash\"}, {\"id\":...</td>\n",
       "      <td>en</td>\n",
       "      <td>Avatar</td>\n",
       "      <td>In the 22nd century, a paraplegic Marine is di...</td>\n",
       "      <td>150.437577</td>\n",
       "      <td>[{\"name\": \"Ingenious Film Partners\", \"id\": 289...</td>\n",
       "      <td>[{\"iso_3166_1\": \"US\", \"name\": \"United States o...</td>\n",
       "      <td>2009-12-10</td>\n",
       "      <td>2787965087</td>\n",
       "      <td>162.0</td>\n",
       "      <td>[{\"iso_639_1\": \"en\", \"name\": \"English\"}, {\"iso...</td>\n",
       "      <td>Released</td>\n",
       "      <td>Enter the World of Pandora.</td>\n",
       "      <td>Avatar</td>\n",
       "      <td>7.2</td>\n",
       "      <td>11800</td>\n",
       "    </tr>\n",
       "    <tr>\n",
       "      <th>1</th>\n",
       "      <td>300000000</td>\n",
       "      <td>[{\"id\": 12, \"name\": \"Adventure\"}, {\"id\": 14, \"...</td>\n",
       "      <td>http://disney.go.com/disneypictures/pirates/</td>\n",
       "      <td>285</td>\n",
       "      <td>[{\"id\": 270, \"name\": \"ocean\"}, {\"id\": 726, \"na...</td>\n",
       "      <td>en</td>\n",
       "      <td>Pirates of the Caribbean: At World's End</td>\n",
       "      <td>Captain Barbossa, long believed to be dead, ha...</td>\n",
       "      <td>139.082615</td>\n",
       "      <td>[{\"name\": \"Walt Disney Pictures\", \"id\": 2}, {\"...</td>\n",
       "      <td>[{\"iso_3166_1\": \"US\", \"name\": \"United States o...</td>\n",
       "      <td>2007-05-19</td>\n",
       "      <td>961000000</td>\n",
       "      <td>169.0</td>\n",
       "      <td>[{\"iso_639_1\": \"en\", \"name\": \"English\"}]</td>\n",
       "      <td>Released</td>\n",
       "      <td>At the end of the world, the adventure begins.</td>\n",
       "      <td>Pirates of the Caribbean: At World's End</td>\n",
       "      <td>6.9</td>\n",
       "      <td>4500</td>\n",
       "    </tr>\n",
       "  </tbody>\n",
       "</table>\n",
       "</div>"
      ],
      "text/plain": [
       "      budget                                             genres  \\\n",
       "0  237000000  [{\"id\": 28, \"name\": \"Action\"}, {\"id\": 12, \"nam...   \n",
       "1  300000000  [{\"id\": 12, \"name\": \"Adventure\"}, {\"id\": 14, \"...   \n",
       "\n",
       "                                       homepage     id  \\\n",
       "0                   http://www.avatarmovie.com/  19995   \n",
       "1  http://disney.go.com/disneypictures/pirates/    285   \n",
       "\n",
       "                                            keywords original_language  \\\n",
       "0  [{\"id\": 1463, \"name\": \"culture clash\"}, {\"id\":...                en   \n",
       "1  [{\"id\": 270, \"name\": \"ocean\"}, {\"id\": 726, \"na...                en   \n",
       "\n",
       "                             original_title  \\\n",
       "0                                    Avatar   \n",
       "1  Pirates of the Caribbean: At World's End   \n",
       "\n",
       "                                            overview  popularity  \\\n",
       "0  In the 22nd century, a paraplegic Marine is di...  150.437577   \n",
       "1  Captain Barbossa, long believed to be dead, ha...  139.082615   \n",
       "\n",
       "                                production_companies  \\\n",
       "0  [{\"name\": \"Ingenious Film Partners\", \"id\": 289...   \n",
       "1  [{\"name\": \"Walt Disney Pictures\", \"id\": 2}, {\"...   \n",
       "\n",
       "                                production_countries release_date     revenue  \\\n",
       "0  [{\"iso_3166_1\": \"US\", \"name\": \"United States o...   2009-12-10  2787965087   \n",
       "1  [{\"iso_3166_1\": \"US\", \"name\": \"United States o...   2007-05-19   961000000   \n",
       "\n",
       "   runtime                                   spoken_languages    status  \\\n",
       "0    162.0  [{\"iso_639_1\": \"en\", \"name\": \"English\"}, {\"iso...  Released   \n",
       "1    169.0           [{\"iso_639_1\": \"en\", \"name\": \"English\"}]  Released   \n",
       "\n",
       "                                          tagline  \\\n",
       "0                     Enter the World of Pandora.   \n",
       "1  At the end of the world, the adventure begins.   \n",
       "\n",
       "                                      title  vote_average  vote_count  \n",
       "0                                    Avatar           7.2       11800  \n",
       "1  Pirates of the Caribbean: At World's End           6.9        4500  "
      ]
     },
     "execution_count": 6,
     "metadata": {},
     "output_type": "execute_result"
    }
   ],
   "source": [
    "movies.head(2)"
   ]
  },
  {
   "cell_type": "code",
   "execution_count": 7,
   "id": "7b48ce6a-520c-4719-8ff7-c51d9e4e5bf4",
   "metadata": {},
   "outputs": [
    {
     "data": {
      "text/html": [
       "<div>\n",
       "<style scoped>\n",
       "    .dataframe tbody tr th:only-of-type {\n",
       "        vertical-align: middle;\n",
       "    }\n",
       "\n",
       "    .dataframe tbody tr th {\n",
       "        vertical-align: top;\n",
       "    }\n",
       "\n",
       "    .dataframe thead th {\n",
       "        text-align: right;\n",
       "    }\n",
       "</style>\n",
       "<table border=\"1\" class=\"dataframe\">\n",
       "  <thead>\n",
       "    <tr style=\"text-align: right;\">\n",
       "      <th></th>\n",
       "      <th>movie_id</th>\n",
       "      <th>title</th>\n",
       "      <th>cast</th>\n",
       "      <th>crew</th>\n",
       "    </tr>\n",
       "  </thead>\n",
       "  <tbody>\n",
       "    <tr>\n",
       "      <th>0</th>\n",
       "      <td>19995</td>\n",
       "      <td>Avatar</td>\n",
       "      <td>[{\"cast_id\": 242, \"character\": \"Jake Sully\", \"...</td>\n",
       "      <td>[{\"credit_id\": \"52fe48009251416c750aca23\", \"de...</td>\n",
       "    </tr>\n",
       "    <tr>\n",
       "      <th>1</th>\n",
       "      <td>285</td>\n",
       "      <td>Pirates of the Caribbean: At World's End</td>\n",
       "      <td>[{\"cast_id\": 4, \"character\": \"Captain Jack Spa...</td>\n",
       "      <td>[{\"credit_id\": \"52fe4232c3a36847f800b579\", \"de...</td>\n",
       "    </tr>\n",
       "  </tbody>\n",
       "</table>\n",
       "</div>"
      ],
      "text/plain": [
       "   movie_id                                     title  \\\n",
       "0     19995                                    Avatar   \n",
       "1       285  Pirates of the Caribbean: At World's End   \n",
       "\n",
       "                                                cast  \\\n",
       "0  [{\"cast_id\": 242, \"character\": \"Jake Sully\", \"...   \n",
       "1  [{\"cast_id\": 4, \"character\": \"Captain Jack Spa...   \n",
       "\n",
       "                                                crew  \n",
       "0  [{\"credit_id\": \"52fe48009251416c750aca23\", \"de...  \n",
       "1  [{\"credit_id\": \"52fe4232c3a36847f800b579\", \"de...  "
      ]
     },
     "execution_count": 7,
     "metadata": {},
     "output_type": "execute_result"
    }
   ],
   "source": [
    "credits.head(2)"
   ]
  },
  {
   "cell_type": "code",
   "execution_count": 8,
   "id": "befd4829-925e-4b88-a539-42c4fa82a453",
   "metadata": {},
   "outputs": [],
   "source": [
    "movies = movies.merge(credits, on='title')"
   ]
  },
  {
   "cell_type": "code",
   "execution_count": 9,
   "id": "024f2ea2-7553-4fea-be7a-75742e6cbaae",
   "metadata": {},
   "outputs": [
    {
     "data": {
      "text/html": [
       "<div>\n",
       "<style scoped>\n",
       "    .dataframe tbody tr th:only-of-type {\n",
       "        vertical-align: middle;\n",
       "    }\n",
       "\n",
       "    .dataframe tbody tr th {\n",
       "        vertical-align: top;\n",
       "    }\n",
       "\n",
       "    .dataframe thead th {\n",
       "        text-align: right;\n",
       "    }\n",
       "</style>\n",
       "<table border=\"1\" class=\"dataframe\">\n",
       "  <thead>\n",
       "    <tr style=\"text-align: right;\">\n",
       "      <th></th>\n",
       "      <th>budget</th>\n",
       "      <th>genres</th>\n",
       "      <th>homepage</th>\n",
       "      <th>id</th>\n",
       "      <th>keywords</th>\n",
       "      <th>original_language</th>\n",
       "      <th>original_title</th>\n",
       "      <th>overview</th>\n",
       "      <th>popularity</th>\n",
       "      <th>production_companies</th>\n",
       "      <th>...</th>\n",
       "      <th>runtime</th>\n",
       "      <th>spoken_languages</th>\n",
       "      <th>status</th>\n",
       "      <th>tagline</th>\n",
       "      <th>title</th>\n",
       "      <th>vote_average</th>\n",
       "      <th>vote_count</th>\n",
       "      <th>movie_id</th>\n",
       "      <th>cast</th>\n",
       "      <th>crew</th>\n",
       "    </tr>\n",
       "  </thead>\n",
       "  <tbody>\n",
       "    <tr>\n",
       "      <th>3131</th>\n",
       "      <td>0</td>\n",
       "      <td>[{\"id\": 28, \"name\": \"Action\"}, {\"id\": 53, \"nam...</td>\n",
       "      <td>NaN</td>\n",
       "      <td>17622</td>\n",
       "      <td>[{\"id\": 14552, \"name\": \"ira\"}, {\"id\": 176516, ...</td>\n",
       "      <td>en</td>\n",
       "      <td>Fifty Dead Men Walking</td>\n",
       "      <td>Based on Martin McGartland's real life story a...</td>\n",
       "      <td>4.481897</td>\n",
       "      <td>[{\"name\": \"T\\u00e9l\\u00e9film Canada\", \"id\": 8...</td>\n",
       "      <td>...</td>\n",
       "      <td>117.0</td>\n",
       "      <td>[{\"iso_639_1\": \"en\", \"name\": \"English\"}, {\"iso...</td>\n",
       "      <td>Released</td>\n",
       "      <td>NaN</td>\n",
       "      <td>Fifty Dead Men Walking</td>\n",
       "      <td>6.1</td>\n",
       "      <td>35</td>\n",
       "      <td>17622</td>\n",
       "      <td>[{\"cast_id\": 3, \"character\": \"Fergus\", \"credit...</td>\n",
       "      <td>[{\"credit_id\": \"52fe47389251416c75091d51\", \"de...</td>\n",
       "    </tr>\n",
       "    <tr>\n",
       "      <th>700</th>\n",
       "      <td>61000000</td>\n",
       "      <td>[{\"id\": 28, \"name\": \"Action\"}, {\"id\": 35, \"nam...</td>\n",
       "      <td>http://www.2guns.net/</td>\n",
       "      <td>136400</td>\n",
       "      <td>[{\"id\": 1568, \"name\": \"undercover\"}, {\"id\": 46...</td>\n",
       "      <td>en</td>\n",
       "      <td>2 Guns</td>\n",
       "      <td>A DEA agent and an undercover Naval Intelligen...</td>\n",
       "      <td>42.881415</td>\n",
       "      <td>[{\"name\": \"Universal Studios\", \"id\": 13}, {\"na...</td>\n",
       "      <td>...</td>\n",
       "      <td>109.0</td>\n",
       "      <td>[{\"iso_639_1\": \"es\", \"name\": \"Espa\\u00f1ol\"}, ...</td>\n",
       "      <td>Released</td>\n",
       "      <td>2 Guns, 1 Bank.</td>\n",
       "      <td>2 Guns</td>\n",
       "      <td>6.6</td>\n",
       "      <td>1589</td>\n",
       "      <td>136400</td>\n",
       "      <td>[{\"cast_id\": 10, \"character\": \"Robert 'Bobby' ...</td>\n",
       "      <td>[{\"credit_id\": \"52fe4c15c3a368484e1a6189\", \"de...</td>\n",
       "    </tr>\n",
       "  </tbody>\n",
       "</table>\n",
       "<p>2 rows × 23 columns</p>\n",
       "</div>"
      ],
      "text/plain": [
       "        budget                                             genres  \\\n",
       "3131         0  [{\"id\": 28, \"name\": \"Action\"}, {\"id\": 53, \"nam...   \n",
       "700   61000000  [{\"id\": 28, \"name\": \"Action\"}, {\"id\": 35, \"nam...   \n",
       "\n",
       "                   homepage      id  \\\n",
       "3131                    NaN   17622   \n",
       "700   http://www.2guns.net/  136400   \n",
       "\n",
       "                                               keywords original_language  \\\n",
       "3131  [{\"id\": 14552, \"name\": \"ira\"}, {\"id\": 176516, ...                en   \n",
       "700   [{\"id\": 1568, \"name\": \"undercover\"}, {\"id\": 46...                en   \n",
       "\n",
       "              original_title  \\\n",
       "3131  Fifty Dead Men Walking   \n",
       "700                   2 Guns   \n",
       "\n",
       "                                               overview  popularity  \\\n",
       "3131  Based on Martin McGartland's real life story a...    4.481897   \n",
       "700   A DEA agent and an undercover Naval Intelligen...   42.881415   \n",
       "\n",
       "                                   production_companies  ... runtime  \\\n",
       "3131  [{\"name\": \"T\\u00e9l\\u00e9film Canada\", \"id\": 8...  ...   117.0   \n",
       "700   [{\"name\": \"Universal Studios\", \"id\": 13}, {\"na...  ...   109.0   \n",
       "\n",
       "                                       spoken_languages    status  \\\n",
       "3131  [{\"iso_639_1\": \"en\", \"name\": \"English\"}, {\"iso...  Released   \n",
       "700   [{\"iso_639_1\": \"es\", \"name\": \"Espa\\u00f1ol\"}, ...  Released   \n",
       "\n",
       "              tagline                   title vote_average vote_count  \\\n",
       "3131              NaN  Fifty Dead Men Walking          6.1         35   \n",
       "700   2 Guns, 1 Bank.                  2 Guns          6.6       1589   \n",
       "\n",
       "     movie_id                                               cast  \\\n",
       "3131    17622  [{\"cast_id\": 3, \"character\": \"Fergus\", \"credit...   \n",
       "700    136400  [{\"cast_id\": 10, \"character\": \"Robert 'Bobby' ...   \n",
       "\n",
       "                                                   crew  \n",
       "3131  [{\"credit_id\": \"52fe47389251416c75091d51\", \"de...  \n",
       "700   [{\"credit_id\": \"52fe4c15c3a368484e1a6189\", \"de...  \n",
       "\n",
       "[2 rows x 23 columns]"
      ]
     },
     "execution_count": 9,
     "metadata": {},
     "output_type": "execute_result"
    }
   ],
   "source": [
    "movies.sample(2)"
   ]
  },
  {
   "cell_type": "code",
   "execution_count": 10,
   "id": "b8e9c036-cad6-4d7f-ac14-ecc564049af3",
   "metadata": {},
   "outputs": [],
   "source": [
    "movies = movies[['id', 'title', 'overview', 'genres', 'keywords', 'cast', 'crew']]"
   ]
  },
  {
   "cell_type": "code",
   "execution_count": 11,
   "id": "b4db1980-b2d6-4b1c-9ef0-094263be9bca",
   "metadata": {},
   "outputs": [
    {
     "data": {
      "text/html": [
       "<div>\n",
       "<style scoped>\n",
       "    .dataframe tbody tr th:only-of-type {\n",
       "        vertical-align: middle;\n",
       "    }\n",
       "\n",
       "    .dataframe tbody tr th {\n",
       "        vertical-align: top;\n",
       "    }\n",
       "\n",
       "    .dataframe thead th {\n",
       "        text-align: right;\n",
       "    }\n",
       "</style>\n",
       "<table border=\"1\" class=\"dataframe\">\n",
       "  <thead>\n",
       "    <tr style=\"text-align: right;\">\n",
       "      <th></th>\n",
       "      <th>id</th>\n",
       "      <th>title</th>\n",
       "      <th>overview</th>\n",
       "      <th>genres</th>\n",
       "      <th>keywords</th>\n",
       "      <th>cast</th>\n",
       "      <th>crew</th>\n",
       "    </tr>\n",
       "  </thead>\n",
       "  <tbody>\n",
       "    <tr>\n",
       "      <th>1195</th>\n",
       "      <td>50348</td>\n",
       "      <td>The Lincoln Lawyer</td>\n",
       "      <td>A lawyer conducts business from the back of hi...</td>\n",
       "      <td>[{\"id\": 80, \"name\": \"Crime\"}, {\"id\": 18, \"name...</td>\n",
       "      <td>[{\"id\": 934, \"name\": \"judge\"}, {\"id\": 5638, \"n...</td>\n",
       "      <td>[{\"cast_id\": 2, \"character\": \"Mickey Haller\", ...</td>\n",
       "      <td>[{\"credit_id\": \"52fe47c4c3a36847f81471bb\", \"de...</td>\n",
       "    </tr>\n",
       "    <tr>\n",
       "      <th>3961</th>\n",
       "      <td>38541</td>\n",
       "      <td>The Divide</td>\n",
       "      <td>Survivors of a nuclear attack are grouped toge...</td>\n",
       "      <td>[{\"id\": 878, \"name\": \"Science Fiction\"}]</td>\n",
       "      <td>[{\"id\": 9866, \"name\": \"basement\"}, {\"id\": 1481...</td>\n",
       "      <td>[{\"cast_id\": 9, \"character\": \"Eva\", \"credit_id...</td>\n",
       "      <td>[{\"credit_id\": \"52fe46c49251416c9105f0e3\", \"de...</td>\n",
       "    </tr>\n",
       "    <tr>\n",
       "      <th>4096</th>\n",
       "      <td>33667</td>\n",
       "      <td>Gentleman's Agreement</td>\n",
       "      <td>A magazine writer poses as a Jew to expose ant...</td>\n",
       "      <td>[{\"id\": 18, \"name\": \"Drama\"}, {\"id\": 10749, \"n...</td>\n",
       "      <td>[{\"id\": 10144, \"name\": \"anti semitism\"}, {\"id\"...</td>\n",
       "      <td>[{\"cast_id\": 1, \"character\": \"Philip Schuyler ...</td>\n",
       "      <td>[{\"credit_id\": \"52fe452d9251416c9102a049\", \"de...</td>\n",
       "    </tr>\n",
       "    <tr>\n",
       "      <th>412</th>\n",
       "      <td>9341</td>\n",
       "      <td>The Core</td>\n",
       "      <td>Geophysicist Dr. Josh Keyes discovers that an ...</td>\n",
       "      <td>[{\"id\": 28, \"name\": \"Action\"}, {\"id\": 53, \"nam...</td>\n",
       "      <td>[{\"id\": 5178, \"name\": \"magnetic field\"}, {\"id\"...</td>\n",
       "      <td>[{\"cast_id\": 1, \"character\": \"Dr. Josh Keyes\",...</td>\n",
       "      <td>[{\"credit_id\": \"54b64442c3a36837ca001428\", \"de...</td>\n",
       "    </tr>\n",
       "    <tr>\n",
       "      <th>4793</th>\n",
       "      <td>86304</td>\n",
       "      <td>All Superheroes Must Die</td>\n",
       "      <td>Masked vigilantes Charge (Jason Trost), Cutthr...</td>\n",
       "      <td>[{\"id\": 878, \"name\": \"Science Fiction\"}, {\"id\"...</td>\n",
       "      <td>[{\"id\": 9715, \"name\": \"superhero\"}]</td>\n",
       "      <td>[{\"cast_id\": 1, \"character\": \"Charge / John\", ...</td>\n",
       "      <td>[{\"credit_id\": \"52fe497f9251416c910af3d1\", \"de...</td>\n",
       "    </tr>\n",
       "  </tbody>\n",
       "</table>\n",
       "</div>"
      ],
      "text/plain": [
       "         id                     title  \\\n",
       "1195  50348        The Lincoln Lawyer   \n",
       "3961  38541                The Divide   \n",
       "4096  33667     Gentleman's Agreement   \n",
       "412    9341                  The Core   \n",
       "4793  86304  All Superheroes Must Die   \n",
       "\n",
       "                                               overview  \\\n",
       "1195  A lawyer conducts business from the back of hi...   \n",
       "3961  Survivors of a nuclear attack are grouped toge...   \n",
       "4096  A magazine writer poses as a Jew to expose ant...   \n",
       "412   Geophysicist Dr. Josh Keyes discovers that an ...   \n",
       "4793  Masked vigilantes Charge (Jason Trost), Cutthr...   \n",
       "\n",
       "                                                 genres  \\\n",
       "1195  [{\"id\": 80, \"name\": \"Crime\"}, {\"id\": 18, \"name...   \n",
       "3961           [{\"id\": 878, \"name\": \"Science Fiction\"}]   \n",
       "4096  [{\"id\": 18, \"name\": \"Drama\"}, {\"id\": 10749, \"n...   \n",
       "412   [{\"id\": 28, \"name\": \"Action\"}, {\"id\": 53, \"nam...   \n",
       "4793  [{\"id\": 878, \"name\": \"Science Fiction\"}, {\"id\"...   \n",
       "\n",
       "                                               keywords  \\\n",
       "1195  [{\"id\": 934, \"name\": \"judge\"}, {\"id\": 5638, \"n...   \n",
       "3961  [{\"id\": 9866, \"name\": \"basement\"}, {\"id\": 1481...   \n",
       "4096  [{\"id\": 10144, \"name\": \"anti semitism\"}, {\"id\"...   \n",
       "412   [{\"id\": 5178, \"name\": \"magnetic field\"}, {\"id\"...   \n",
       "4793                [{\"id\": 9715, \"name\": \"superhero\"}]   \n",
       "\n",
       "                                                   cast  \\\n",
       "1195  [{\"cast_id\": 2, \"character\": \"Mickey Haller\", ...   \n",
       "3961  [{\"cast_id\": 9, \"character\": \"Eva\", \"credit_id...   \n",
       "4096  [{\"cast_id\": 1, \"character\": \"Philip Schuyler ...   \n",
       "412   [{\"cast_id\": 1, \"character\": \"Dr. Josh Keyes\",...   \n",
       "4793  [{\"cast_id\": 1, \"character\": \"Charge / John\", ...   \n",
       "\n",
       "                                                   crew  \n",
       "1195  [{\"credit_id\": \"52fe47c4c3a36847f81471bb\", \"de...  \n",
       "3961  [{\"credit_id\": \"52fe46c49251416c9105f0e3\", \"de...  \n",
       "4096  [{\"credit_id\": \"52fe452d9251416c9102a049\", \"de...  \n",
       "412   [{\"credit_id\": \"54b64442c3a36837ca001428\", \"de...  \n",
       "4793  [{\"credit_id\": \"52fe497f9251416c910af3d1\", \"de...  "
      ]
     },
     "execution_count": 11,
     "metadata": {},
     "output_type": "execute_result"
    }
   ],
   "source": [
    "movies.sample(5)"
   ]
  },
  {
   "cell_type": "code",
   "execution_count": 13,
   "id": "bfeda9d2-4c37-40ce-94f7-10eb1fc08d11",
   "metadata": {},
   "outputs": [],
   "source": [
    "import pandas as pd\n",
    "import ast\n",
    "\n",
    "def extract_names(obj):\n",
    "    try:\n",
    "        return [i['name'] for i in ast.literal_eval(obj)]\n",
    "    except:\n",
    "        return []\n",
    "\n",
    "def extract_top_cast(obj):\n",
    "    try:\n",
    "        return [i['name'] for i in ast.literal_eval(obj)[:3]]\n",
    "    except:\n",
    "        return []\n",
    "\n",
    "def extract_director(obj):\n",
    "    try:\n",
    "        for i in ast.literal_eval(obj):\n",
    "            if i['job'] == 'Director':\n",
    "                return [i['name']] \n",
    "        return []\n",
    "    except:\n",
    "        return []\n",
    "\n",
    "movies['genres'] = movies['genres'].apply(extract_names)\n",
    "movies['keywords'] = movies['keywords'].apply(extract_names)\n",
    "movies['cast'] = movies['cast'].apply(extract_top_cast)\n",
    "movies['crew'] = movies['crew'].apply(extract_director)\n",
    "\n",
    "movies['tags'] = movies['overview'].fillna('') + ' ' + movies['genres'].apply(lambda x: ' '.join(x)) + ' ' + \\\n",
    "                 movies['keywords'].apply(lambda x: ' '.join(x)) + ' ' + \\\n",
    "                 movies['cast'].apply(lambda x: ' '.join(x)) + ' ' + \\\n",
    "                 movies['crew'].apply(lambda x: ' '.join(x))"
   ]
  },
  {
   "cell_type": "code",
   "execution_count": 14,
   "id": "f1b4e939-a66a-4668-9dc1-290926f13231",
   "metadata": {},
   "outputs": [
    {
     "data": {
      "text/html": [
       "<div>\n",
       "<style scoped>\n",
       "    .dataframe tbody tr th:only-of-type {\n",
       "        vertical-align: middle;\n",
       "    }\n",
       "\n",
       "    .dataframe tbody tr th {\n",
       "        vertical-align: top;\n",
       "    }\n",
       "\n",
       "    .dataframe thead th {\n",
       "        text-align: right;\n",
       "    }\n",
       "</style>\n",
       "<table border=\"1\" class=\"dataframe\">\n",
       "  <thead>\n",
       "    <tr style=\"text-align: right;\">\n",
       "      <th></th>\n",
       "      <th>id</th>\n",
       "      <th>title</th>\n",
       "      <th>overview</th>\n",
       "      <th>genres</th>\n",
       "      <th>keywords</th>\n",
       "      <th>cast</th>\n",
       "      <th>crew</th>\n",
       "      <th>tags</th>\n",
       "    </tr>\n",
       "  </thead>\n",
       "  <tbody>\n",
       "    <tr>\n",
       "      <th>533</th>\n",
       "      <td>9297</td>\n",
       "      <td>Monster House</td>\n",
       "      <td>Monsters under the bed are scary enough, but w...</td>\n",
       "      <td>[Animation, Comedy, Family, Fantasy]</td>\n",
       "      <td>[monster, secret, toy, children, neighbor, mis...</td>\n",
       "      <td>[Ryan Newman, Steve Buscemi, Mitchel Musso]</td>\n",
       "      <td>[Gil Kenan]</td>\n",
       "      <td>Monsters under the bed are scary enough, but w...</td>\n",
       "    </tr>\n",
       "    <tr>\n",
       "      <th>4501</th>\n",
       "      <td>3080</td>\n",
       "      <td>Top Hat</td>\n",
       "      <td>Showman Jerry Travers is working for producer ...</td>\n",
       "      <td>[Comedy, Music, Romance]</td>\n",
       "      <td>[venice, dance, musical, tap dancing, stage sh...</td>\n",
       "      <td>[Fred Astaire, Ginger Rogers, Edward Everett H...</td>\n",
       "      <td>[Mark Sandrich]</td>\n",
       "      <td>Showman Jerry Travers is working for producer ...</td>\n",
       "    </tr>\n",
       "    <tr>\n",
       "      <th>1407</th>\n",
       "      <td>423</td>\n",
       "      <td>The Pianist</td>\n",
       "      <td>The Pianist is a film adapted from the biograp...</td>\n",
       "      <td>[Drama, War]</td>\n",
       "      <td>[individual, resistance, radio station, war cr...</td>\n",
       "      <td>[Adrien Brody, Thomas Kretschmann, Frank Finlay]</td>\n",
       "      <td>[Roman Polanski]</td>\n",
       "      <td>The Pianist is a film adapted from the biograp...</td>\n",
       "    </tr>\n",
       "    <tr>\n",
       "      <th>4586</th>\n",
       "      <td>64499</td>\n",
       "      <td>Quinceañera</td>\n",
       "      <td>As Magdalena's 15th birthday approaches, her s...</td>\n",
       "      <td>[Drama]</td>\n",
       "      <td>[]</td>\n",
       "      <td>[Emily Rios, Jesse Garcia, Chalo González]</td>\n",
       "      <td>[Richard Glatzer]</td>\n",
       "      <td>As Magdalena's 15th birthday approaches, her s...</td>\n",
       "    </tr>\n",
       "    <tr>\n",
       "      <th>3383</th>\n",
       "      <td>71859</td>\n",
       "      <td>We Need to Talk About Kevin</td>\n",
       "      <td>The mother of a teenage sociopath who went on ...</td>\n",
       "      <td>[Drama, Thriller]</td>\n",
       "      <td>[suburb, violence, killing spree, prison visit...</td>\n",
       "      <td>[John C. Reilly, Tilda Swinton, Ezra Miller]</td>\n",
       "      <td>[Lynne Ramsay]</td>\n",
       "      <td>The mother of a teenage sociopath who went on ...</td>\n",
       "    </tr>\n",
       "  </tbody>\n",
       "</table>\n",
       "</div>"
      ],
      "text/plain": [
       "         id                        title  \\\n",
       "533    9297                Monster House   \n",
       "4501   3080                      Top Hat   \n",
       "1407    423                  The Pianist   \n",
       "4586  64499                  Quinceañera   \n",
       "3383  71859  We Need to Talk About Kevin   \n",
       "\n",
       "                                               overview  \\\n",
       "533   Monsters under the bed are scary enough, but w...   \n",
       "4501  Showman Jerry Travers is working for producer ...   \n",
       "1407  The Pianist is a film adapted from the biograp...   \n",
       "4586  As Magdalena's 15th birthday approaches, her s...   \n",
       "3383  The mother of a teenage sociopath who went on ...   \n",
       "\n",
       "                                    genres  \\\n",
       "533   [Animation, Comedy, Family, Fantasy]   \n",
       "4501              [Comedy, Music, Romance]   \n",
       "1407                          [Drama, War]   \n",
       "4586                               [Drama]   \n",
       "3383                     [Drama, Thriller]   \n",
       "\n",
       "                                               keywords  \\\n",
       "533   [monster, secret, toy, children, neighbor, mis...   \n",
       "4501  [venice, dance, musical, tap dancing, stage sh...   \n",
       "1407  [individual, resistance, radio station, war cr...   \n",
       "4586                                                 []   \n",
       "3383  [suburb, violence, killing spree, prison visit...   \n",
       "\n",
       "                                                   cast               crew  \\\n",
       "533         [Ryan Newman, Steve Buscemi, Mitchel Musso]        [Gil Kenan]   \n",
       "4501  [Fred Astaire, Ginger Rogers, Edward Everett H...    [Mark Sandrich]   \n",
       "1407   [Adrien Brody, Thomas Kretschmann, Frank Finlay]   [Roman Polanski]   \n",
       "4586         [Emily Rios, Jesse Garcia, Chalo González]  [Richard Glatzer]   \n",
       "3383       [John C. Reilly, Tilda Swinton, Ezra Miller]     [Lynne Ramsay]   \n",
       "\n",
       "                                                   tags  \n",
       "533   Monsters under the bed are scary enough, but w...  \n",
       "4501  Showman Jerry Travers is working for producer ...  \n",
       "1407  The Pianist is a film adapted from the biograp...  \n",
       "4586  As Magdalena's 15th birthday approaches, her s...  \n",
       "3383  The mother of a teenage sociopath who went on ...  "
      ]
     },
     "execution_count": 14,
     "metadata": {},
     "output_type": "execute_result"
    }
   ],
   "source": [
    "movies.sample(5)"
   ]
  },
  {
   "cell_type": "code",
   "execution_count": 19,
   "id": "352dda93-b6e1-4733-aee2-c169f7e05273",
   "metadata": {},
   "outputs": [],
   "source": [
    "movies = movies.drop(columns=['tags'])"
   ]
  },
  {
   "cell_type": "code",
   "execution_count": 23,
   "id": "23a379a8-6d48-42f0-832f-fe7dfc03715d",
   "metadata": {},
   "outputs": [
    {
     "data": {
      "text/html": [
       "<div>\n",
       "<style scoped>\n",
       "    .dataframe tbody tr th:only-of-type {\n",
       "        vertical-align: middle;\n",
       "    }\n",
       "\n",
       "    .dataframe tbody tr th {\n",
       "        vertical-align: top;\n",
       "    }\n",
       "\n",
       "    .dataframe thead th {\n",
       "        text-align: right;\n",
       "    }\n",
       "</style>\n",
       "<table border=\"1\" class=\"dataframe\">\n",
       "  <thead>\n",
       "    <tr style=\"text-align: right;\">\n",
       "      <th></th>\n",
       "      <th>id</th>\n",
       "      <th>title</th>\n",
       "      <th>overview</th>\n",
       "      <th>genres</th>\n",
       "      <th>keywords</th>\n",
       "      <th>cast</th>\n",
       "      <th>crew</th>\n",
       "    </tr>\n",
       "  </thead>\n",
       "  <tbody>\n",
       "    <tr>\n",
       "      <th>3458</th>\n",
       "      <td>10160</td>\n",
       "      <td>A Nightmare on Elm Street 5: The Dream Child</td>\n",
       "      <td>Alice, having survived the previous installmen...</td>\n",
       "      <td>[Horror, Thriller]</td>\n",
       "      <td>[nun, baby, monster, asylum, nightmare, supern...</td>\n",
       "      <td>[Robert Englund, Lisa Wilcox, Erika Anderson]</td>\n",
       "      <td>[Stephen Hopkins]</td>\n",
       "    </tr>\n",
       "    <tr>\n",
       "      <th>3549</th>\n",
       "      <td>13173</td>\n",
       "      <td>The Ten</td>\n",
       "      <td>Ten stories, each inspired by one of the ten c...</td>\n",
       "      <td>[Comedy]</td>\n",
       "      <td>[independent film, ventriloquist dummy, multip...</td>\n",
       "      <td>[Paul Rudd, Adam Brody, Jon Hamm]</td>\n",
       "      <td>[David Wain]</td>\n",
       "    </tr>\n",
       "    <tr>\n",
       "      <th>3131</th>\n",
       "      <td>17622</td>\n",
       "      <td>Fifty Dead Men Walking</td>\n",
       "      <td>Based on Martin McGartland's real life story a...</td>\n",
       "      <td>[Action, Thriller]</td>\n",
       "      <td>[ira, slot machine, riot police, woman director]</td>\n",
       "      <td>[Ben Kingsley, Jim Sturgess, Kevin Zegers]</td>\n",
       "      <td>[Kari Skogland]</td>\n",
       "    </tr>\n",
       "  </tbody>\n",
       "</table>\n",
       "</div>"
      ],
      "text/plain": [
       "         id                                         title  \\\n",
       "3458  10160  A Nightmare on Elm Street 5: The Dream Child   \n",
       "3549  13173                                       The Ten   \n",
       "3131  17622                        Fifty Dead Men Walking   \n",
       "\n",
       "                                               overview              genres  \\\n",
       "3458  Alice, having survived the previous installmen...  [Horror, Thriller]   \n",
       "3549  Ten stories, each inspired by one of the ten c...            [Comedy]   \n",
       "3131  Based on Martin McGartland's real life story a...  [Action, Thriller]   \n",
       "\n",
       "                                               keywords  \\\n",
       "3458  [nun, baby, monster, asylum, nightmare, supern...   \n",
       "3549  [independent film, ventriloquist dummy, multip...   \n",
       "3131   [ira, slot machine, riot police, woman director]   \n",
       "\n",
       "                                               cast               crew  \n",
       "3458  [Robert Englund, Lisa Wilcox, Erika Anderson]  [Stephen Hopkins]  \n",
       "3549              [Paul Rudd, Adam Brody, Jon Hamm]       [David Wain]  \n",
       "3131     [Ben Kingsley, Jim Sturgess, Kevin Zegers]    [Kari Skogland]  "
      ]
     },
     "execution_count": 23,
     "metadata": {},
     "output_type": "execute_result"
    }
   ],
   "source": [
    "movies.sample(3)"
   ]
  },
  {
   "cell_type": "code",
   "execution_count": 24,
   "id": "332a0588-e840-4b76-b8d3-75a014c8ce27",
   "metadata": {},
   "outputs": [
    {
     "data": {
      "text/plain": [
       "id          0\n",
       "title       0\n",
       "overview    3\n",
       "genres      0\n",
       "keywords    0\n",
       "cast        0\n",
       "crew        0\n",
       "dtype: int64"
      ]
     },
     "execution_count": 24,
     "metadata": {},
     "output_type": "execute_result"
    }
   ],
   "source": [
    "movies.isnull().sum()"
   ]
  },
  {
   "cell_type": "code",
   "execution_count": 25,
   "id": "eb026122-c98c-4e5b-8f13-8da46a505056",
   "metadata": {},
   "outputs": [],
   "source": [
    "movies.dropna(inplace = True)"
   ]
  },
  {
   "cell_type": "code",
   "execution_count": 26,
   "id": "56d63f81-62ef-446f-a001-e0b7ae37cd8a",
   "metadata": {},
   "outputs": [
    {
     "data": {
      "text/plain": [
       "(4806, 7)"
      ]
     },
     "execution_count": 26,
     "metadata": {},
     "output_type": "execute_result"
    }
   ],
   "source": [
    "movies.shape"
   ]
  },
  {
   "cell_type": "code",
   "execution_count": 27,
   "id": "261ab082-59a4-435d-a874-f60dbc3a14f3",
   "metadata": {},
   "outputs": [],
   "source": [
    "movies['overview'] = movies['overview'].apply(lambda x: x.split('|'))"
   ]
  },
  {
   "cell_type": "code",
   "execution_count": 28,
   "id": "8fb8efcd-5f70-4315-9686-df86337b0360",
   "metadata": {},
   "outputs": [
    {
     "data": {
      "text/html": [
       "<div>\n",
       "<style scoped>\n",
       "    .dataframe tbody tr th:only-of-type {\n",
       "        vertical-align: middle;\n",
       "    }\n",
       "\n",
       "    .dataframe tbody tr th {\n",
       "        vertical-align: top;\n",
       "    }\n",
       "\n",
       "    .dataframe thead th {\n",
       "        text-align: right;\n",
       "    }\n",
       "</style>\n",
       "<table border=\"1\" class=\"dataframe\">\n",
       "  <thead>\n",
       "    <tr style=\"text-align: right;\">\n",
       "      <th></th>\n",
       "      <th>id</th>\n",
       "      <th>title</th>\n",
       "      <th>overview</th>\n",
       "      <th>genres</th>\n",
       "      <th>keywords</th>\n",
       "      <th>cast</th>\n",
       "      <th>crew</th>\n",
       "    </tr>\n",
       "  </thead>\n",
       "  <tbody>\n",
       "    <tr>\n",
       "      <th>1666</th>\n",
       "      <td>102362</td>\n",
       "      <td>Dead Man Down</td>\n",
       "      <td>[In New York City, a crime lord's right-hand m...</td>\n",
       "      <td>[Thriller, Action, Crime, Drama]</td>\n",
       "      <td>[revenge, new york city, mysterious woman, cri...</td>\n",
       "      <td>[Colin Farrell, Noomi Rapace, Terrence Howard]</td>\n",
       "      <td>[Niels Arden Oplev]</td>\n",
       "    </tr>\n",
       "    <tr>\n",
       "      <th>4292</th>\n",
       "      <td>46256</td>\n",
       "      <td>The Lion of Judah</td>\n",
       "      <td>[Upon learning that Judah has been trapped in ...</td>\n",
       "      <td>[Adventure, Animation, Comedy, Family]</td>\n",
       "      <td>[palm sunday, jerusalem judah, bethlehem judah]</td>\n",
       "      <td>[Georgina Cordova, Ernest Borgnine, Michael Ma...</td>\n",
       "      <td>[Deryck Broom]</td>\n",
       "    </tr>\n",
       "    <tr>\n",
       "      <th>3856</th>\n",
       "      <td>224569</td>\n",
       "      <td>Taxman</td>\n",
       "      <td>[After a homocide that the police believe is o...</td>\n",
       "      <td>[Action, Crime, Comedy, Thriller]</td>\n",
       "      <td>[machinegun, tax inspector, wedding party]</td>\n",
       "      <td>[Joe Pantoliano, Wade Dominguez, Elizabeth Ber...</td>\n",
       "      <td>[Avi Nesher]</td>\n",
       "    </tr>\n",
       "    <tr>\n",
       "      <th>392</th>\n",
       "      <td>59961</td>\n",
       "      <td>Safe House</td>\n",
       "      <td>[A dangerous CIA renegade resurfaces after a d...</td>\n",
       "      <td>[Action, Thriller]</td>\n",
       "      <td>[cia, violence, safe house, rogue agent, cape ...</td>\n",
       "      <td>[Denzel Washington, Ryan Reynolds, Vera Farmiga]</td>\n",
       "      <td>[Daniel Espinosa]</td>\n",
       "    </tr>\n",
       "    <tr>\n",
       "      <th>1018</th>\n",
       "      <td>1636</td>\n",
       "      <td>Bedazzled</td>\n",
       "      <td>[Elliot Richardson, suicidal techno geek, is g...</td>\n",
       "      <td>[Fantasy, Comedy, Romance]</td>\n",
       "      <td>[love of one's life, mephisto, wish, sale of s...</td>\n",
       "      <td>[Elizabeth Hurley, Brendan Fraser, Frances O'C...</td>\n",
       "      <td>[Harold Ramis]</td>\n",
       "    </tr>\n",
       "  </tbody>\n",
       "</table>\n",
       "</div>"
      ],
      "text/plain": [
       "          id              title  \\\n",
       "1666  102362      Dead Man Down   \n",
       "4292   46256  The Lion of Judah   \n",
       "3856  224569             Taxman   \n",
       "392    59961         Safe House   \n",
       "1018    1636          Bedazzled   \n",
       "\n",
       "                                               overview  \\\n",
       "1666  [In New York City, a crime lord's right-hand m...   \n",
       "4292  [Upon learning that Judah has been trapped in ...   \n",
       "3856  [After a homocide that the police believe is o...   \n",
       "392   [A dangerous CIA renegade resurfaces after a d...   \n",
       "1018  [Elliot Richardson, suicidal techno geek, is g...   \n",
       "\n",
       "                                      genres  \\\n",
       "1666        [Thriller, Action, Crime, Drama]   \n",
       "4292  [Adventure, Animation, Comedy, Family]   \n",
       "3856       [Action, Crime, Comedy, Thriller]   \n",
       "392                       [Action, Thriller]   \n",
       "1018              [Fantasy, Comedy, Romance]   \n",
       "\n",
       "                                               keywords  \\\n",
       "1666  [revenge, new york city, mysterious woman, cri...   \n",
       "4292    [palm sunday, jerusalem judah, bethlehem judah]   \n",
       "3856         [machinegun, tax inspector, wedding party]   \n",
       "392   [cia, violence, safe house, rogue agent, cape ...   \n",
       "1018  [love of one's life, mephisto, wish, sale of s...   \n",
       "\n",
       "                                                   cast                 crew  \n",
       "1666     [Colin Farrell, Noomi Rapace, Terrence Howard]  [Niels Arden Oplev]  \n",
       "4292  [Georgina Cordova, Ernest Borgnine, Michael Ma...       [Deryck Broom]  \n",
       "3856  [Joe Pantoliano, Wade Dominguez, Elizabeth Ber...         [Avi Nesher]  \n",
       "392    [Denzel Washington, Ryan Reynolds, Vera Farmiga]    [Daniel Espinosa]  \n",
       "1018  [Elizabeth Hurley, Brendan Fraser, Frances O'C...       [Harold Ramis]  "
      ]
     },
     "execution_count": 28,
     "metadata": {},
     "output_type": "execute_result"
    }
   ],
   "source": [
    "movies.sample(5)"
   ]
  },
  {
   "cell_type": "code",
   "execution_count": 29,
   "id": "cef70a39-8b1b-4a44-829a-1d48cb77f57a",
   "metadata": {},
   "outputs": [],
   "source": [
    "#sun Honglei -> sunhonglei\n",
    "#sexual fantasy -> sexualfantasy\n",
    "def remove_spaces(text_list):\n",
    "    l = []\n",
    "    for i in text_list:\n",
    "        l.append(i.replace(\" \",\"\"))\n",
    "    return l"
   ]
  },
  {
   "cell_type": "code",
   "execution_count": 30,
   "id": "0baac027-9297-4c39-bb06-1cd4110cc7ae",
   "metadata": {},
   "outputs": [],
   "source": [
    "movies['cast'] = movies['cast'].apply(remove_spaces)\n",
    "movies['crew'] = movies['crew'].apply(remove_spaces)\n",
    "movies['keywords'] = movies['keywords'].apply(remove_spaces)\n",
    "movies['genres'] = movies['genres'].apply(remove_spaces)"
   ]
  },
  {
   "cell_type": "code",
   "execution_count": 31,
   "id": "97b24d89-65df-4b76-9a8c-f39dd29081e6",
   "metadata": {},
   "outputs": [
    {
     "data": {
      "text/html": [
       "<div>\n",
       "<style scoped>\n",
       "    .dataframe tbody tr th:only-of-type {\n",
       "        vertical-align: middle;\n",
       "    }\n",
       "\n",
       "    .dataframe tbody tr th {\n",
       "        vertical-align: top;\n",
       "    }\n",
       "\n",
       "    .dataframe thead th {\n",
       "        text-align: right;\n",
       "    }\n",
       "</style>\n",
       "<table border=\"1\" class=\"dataframe\">\n",
       "  <thead>\n",
       "    <tr style=\"text-align: right;\">\n",
       "      <th></th>\n",
       "      <th>id</th>\n",
       "      <th>title</th>\n",
       "      <th>overview</th>\n",
       "      <th>genres</th>\n",
       "      <th>keywords</th>\n",
       "      <th>cast</th>\n",
       "      <th>crew</th>\n",
       "    </tr>\n",
       "  </thead>\n",
       "  <tbody>\n",
       "    <tr>\n",
       "      <th>0</th>\n",
       "      <td>19995</td>\n",
       "      <td>Avatar</td>\n",
       "      <td>[In the 22nd century, a paraplegic Marine is d...</td>\n",
       "      <td>[Action, Adventure, Fantasy, ScienceFiction]</td>\n",
       "      <td>[cultureclash, future, spacewar, spacecolony, ...</td>\n",
       "      <td>[SamWorthington, ZoeSaldana, SigourneyWeaver]</td>\n",
       "      <td>[JamesCameron]</td>\n",
       "    </tr>\n",
       "    <tr>\n",
       "      <th>1</th>\n",
       "      <td>285</td>\n",
       "      <td>Pirates of the Caribbean: At World's End</td>\n",
       "      <td>[Captain Barbossa, long believed to be dead, h...</td>\n",
       "      <td>[Adventure, Fantasy, Action]</td>\n",
       "      <td>[ocean, drugabuse, exoticisland, eastindiatrad...</td>\n",
       "      <td>[JohnnyDepp, OrlandoBloom, KeiraKnightley]</td>\n",
       "      <td>[GoreVerbinski]</td>\n",
       "    </tr>\n",
       "  </tbody>\n",
       "</table>\n",
       "</div>"
      ],
      "text/plain": [
       "      id                                     title  \\\n",
       "0  19995                                    Avatar   \n",
       "1    285  Pirates of the Caribbean: At World's End   \n",
       "\n",
       "                                            overview  \\\n",
       "0  [In the 22nd century, a paraplegic Marine is d...   \n",
       "1  [Captain Barbossa, long believed to be dead, h...   \n",
       "\n",
       "                                         genres  \\\n",
       "0  [Action, Adventure, Fantasy, ScienceFiction]   \n",
       "1                  [Adventure, Fantasy, Action]   \n",
       "\n",
       "                                            keywords  \\\n",
       "0  [cultureclash, future, spacewar, spacecolony, ...   \n",
       "1  [ocean, drugabuse, exoticisland, eastindiatrad...   \n",
       "\n",
       "                                            cast             crew  \n",
       "0  [SamWorthington, ZoeSaldana, SigourneyWeaver]   [JamesCameron]  \n",
       "1     [JohnnyDepp, OrlandoBloom, KeiraKnightley]  [GoreVerbinski]  "
      ]
     },
     "execution_count": 31,
     "metadata": {},
     "output_type": "execute_result"
    }
   ],
   "source": [
    "movies.head(2)"
   ]
  },
  {
   "cell_type": "code",
   "execution_count": 32,
   "id": "a06d0b24-d63b-4a56-b05b-7a3fc47bac46",
   "metadata": {},
   "outputs": [],
   "source": [
    "movies['tags']=movies['overview']+movies['genres']+movies['keywords']+movies['cast']+movies['crew']"
   ]
  },
  {
   "cell_type": "code",
   "execution_count": 33,
   "id": "d16439d8-5165-4cc8-af7a-f7841e14d2de",
   "metadata": {},
   "outputs": [
    {
     "data": {
      "text/html": [
       "<div>\n",
       "<style scoped>\n",
       "    .dataframe tbody tr th:only-of-type {\n",
       "        vertical-align: middle;\n",
       "    }\n",
       "\n",
       "    .dataframe tbody tr th {\n",
       "        vertical-align: top;\n",
       "    }\n",
       "\n",
       "    .dataframe thead th {\n",
       "        text-align: right;\n",
       "    }\n",
       "</style>\n",
       "<table border=\"1\" class=\"dataframe\">\n",
       "  <thead>\n",
       "    <tr style=\"text-align: right;\">\n",
       "      <th></th>\n",
       "      <th>id</th>\n",
       "      <th>title</th>\n",
       "      <th>overview</th>\n",
       "      <th>genres</th>\n",
       "      <th>keywords</th>\n",
       "      <th>cast</th>\n",
       "      <th>crew</th>\n",
       "      <th>tags</th>\n",
       "    </tr>\n",
       "  </thead>\n",
       "  <tbody>\n",
       "    <tr>\n",
       "      <th>0</th>\n",
       "      <td>19995</td>\n",
       "      <td>Avatar</td>\n",
       "      <td>[In the 22nd century, a paraplegic Marine is d...</td>\n",
       "      <td>[Action, Adventure, Fantasy, ScienceFiction]</td>\n",
       "      <td>[cultureclash, future, spacewar, spacecolony, ...</td>\n",
       "      <td>[SamWorthington, ZoeSaldana, SigourneyWeaver]</td>\n",
       "      <td>[JamesCameron]</td>\n",
       "      <td>[In the 22nd century, a paraplegic Marine is d...</td>\n",
       "    </tr>\n",
       "    <tr>\n",
       "      <th>1</th>\n",
       "      <td>285</td>\n",
       "      <td>Pirates of the Caribbean: At World's End</td>\n",
       "      <td>[Captain Barbossa, long believed to be dead, h...</td>\n",
       "      <td>[Adventure, Fantasy, Action]</td>\n",
       "      <td>[ocean, drugabuse, exoticisland, eastindiatrad...</td>\n",
       "      <td>[JohnnyDepp, OrlandoBloom, KeiraKnightley]</td>\n",
       "      <td>[GoreVerbinski]</td>\n",
       "      <td>[Captain Barbossa, long believed to be dead, h...</td>\n",
       "    </tr>\n",
       "    <tr>\n",
       "      <th>2</th>\n",
       "      <td>206647</td>\n",
       "      <td>Spectre</td>\n",
       "      <td>[A cryptic message from Bond’s past sends him ...</td>\n",
       "      <td>[Action, Adventure, Crime]</td>\n",
       "      <td>[spy, basedonnovel, secretagent, sequel, mi6, ...</td>\n",
       "      <td>[DanielCraig, ChristophWaltz, LéaSeydoux]</td>\n",
       "      <td>[SamMendes]</td>\n",
       "      <td>[A cryptic message from Bond’s past sends him ...</td>\n",
       "    </tr>\n",
       "    <tr>\n",
       "      <th>3</th>\n",
       "      <td>49026</td>\n",
       "      <td>The Dark Knight Rises</td>\n",
       "      <td>[Following the death of District Attorney Harv...</td>\n",
       "      <td>[Action, Crime, Drama, Thriller]</td>\n",
       "      <td>[dccomics, crimefighter, terrorist, secretiden...</td>\n",
       "      <td>[ChristianBale, MichaelCaine, GaryOldman]</td>\n",
       "      <td>[ChristopherNolan]</td>\n",
       "      <td>[Following the death of District Attorney Harv...</td>\n",
       "    </tr>\n",
       "    <tr>\n",
       "      <th>4</th>\n",
       "      <td>49529</td>\n",
       "      <td>John Carter</td>\n",
       "      <td>[John Carter is a war-weary, former military c...</td>\n",
       "      <td>[Action, Adventure, ScienceFiction]</td>\n",
       "      <td>[basedonnovel, mars, medallion, spacetravel, p...</td>\n",
       "      <td>[TaylorKitsch, LynnCollins, SamanthaMorton]</td>\n",
       "      <td>[AndrewStanton]</td>\n",
       "      <td>[John Carter is a war-weary, former military c...</td>\n",
       "    </tr>\n",
       "  </tbody>\n",
       "</table>\n",
       "</div>"
      ],
      "text/plain": [
       "       id                                     title  \\\n",
       "0   19995                                    Avatar   \n",
       "1     285  Pirates of the Caribbean: At World's End   \n",
       "2  206647                                   Spectre   \n",
       "3   49026                     The Dark Knight Rises   \n",
       "4   49529                               John Carter   \n",
       "\n",
       "                                            overview  \\\n",
       "0  [In the 22nd century, a paraplegic Marine is d...   \n",
       "1  [Captain Barbossa, long believed to be dead, h...   \n",
       "2  [A cryptic message from Bond’s past sends him ...   \n",
       "3  [Following the death of District Attorney Harv...   \n",
       "4  [John Carter is a war-weary, former military c...   \n",
       "\n",
       "                                         genres  \\\n",
       "0  [Action, Adventure, Fantasy, ScienceFiction]   \n",
       "1                  [Adventure, Fantasy, Action]   \n",
       "2                    [Action, Adventure, Crime]   \n",
       "3              [Action, Crime, Drama, Thriller]   \n",
       "4           [Action, Adventure, ScienceFiction]   \n",
       "\n",
       "                                            keywords  \\\n",
       "0  [cultureclash, future, spacewar, spacecolony, ...   \n",
       "1  [ocean, drugabuse, exoticisland, eastindiatrad...   \n",
       "2  [spy, basedonnovel, secretagent, sequel, mi6, ...   \n",
       "3  [dccomics, crimefighter, terrorist, secretiden...   \n",
       "4  [basedonnovel, mars, medallion, spacetravel, p...   \n",
       "\n",
       "                                            cast                crew  \\\n",
       "0  [SamWorthington, ZoeSaldana, SigourneyWeaver]      [JamesCameron]   \n",
       "1     [JohnnyDepp, OrlandoBloom, KeiraKnightley]     [GoreVerbinski]   \n",
       "2      [DanielCraig, ChristophWaltz, LéaSeydoux]         [SamMendes]   \n",
       "3      [ChristianBale, MichaelCaine, GaryOldman]  [ChristopherNolan]   \n",
       "4    [TaylorKitsch, LynnCollins, SamanthaMorton]     [AndrewStanton]   \n",
       "\n",
       "                                                tags  \n",
       "0  [In the 22nd century, a paraplegic Marine is d...  \n",
       "1  [Captain Barbossa, long believed to be dead, h...  \n",
       "2  [A cryptic message from Bond’s past sends him ...  \n",
       "3  [Following the death of District Attorney Harv...  \n",
       "4  [John Carter is a war-weary, former military c...  "
      ]
     },
     "execution_count": 33,
     "metadata": {},
     "output_type": "execute_result"
    }
   ],
   "source": [
    "movies.head()"
   ]
  },
  {
   "cell_type": "code",
   "execution_count": 34,
   "id": "b2f88d6d-30fc-49db-9845-540064133d89",
   "metadata": {},
   "outputs": [
    {
     "data": {
      "text/plain": [
       "['In the 22nd century, a paraplegic Marine is dispatched to the moon Pandora on a unique mission, but becomes torn between following orders and protecting an alien civilization.',\n",
       " 'Action',\n",
       " 'Adventure',\n",
       " 'Fantasy',\n",
       " 'ScienceFiction',\n",
       " 'cultureclash',\n",
       " 'future',\n",
       " 'spacewar',\n",
       " 'spacecolony',\n",
       " 'society',\n",
       " 'spacetravel',\n",
       " 'futuristic',\n",
       " 'romance',\n",
       " 'space',\n",
       " 'alien',\n",
       " 'tribe',\n",
       " 'alienplanet',\n",
       " 'cgi',\n",
       " 'marine',\n",
       " 'soldier',\n",
       " 'battle',\n",
       " 'loveaffair',\n",
       " 'antiwar',\n",
       " 'powerrelations',\n",
       " 'mindandsoul',\n",
       " '3d',\n",
       " 'SamWorthington',\n",
       " 'ZoeSaldana',\n",
       " 'SigourneyWeaver',\n",
       " 'JamesCameron']"
      ]
     },
     "execution_count": 34,
     "metadata": {},
     "output_type": "execute_result"
    }
   ],
   "source": [
    "movies.iloc[0]['tags']"
   ]
  },
  {
   "cell_type": "code",
   "execution_count": 35,
   "id": "7cc924af-806e-4150-8d5f-4d6aa5f68bd2",
   "metadata": {},
   "outputs": [],
   "source": [
    "df = movies[['id','title','tags']]"
   ]
  },
  {
   "cell_type": "code",
   "execution_count": 36,
   "id": "e9ade8d7-74a1-4a9a-85b2-0a24b8f91e82",
   "metadata": {},
   "outputs": [
    {
     "data": {
      "text/html": [
       "<div>\n",
       "<style scoped>\n",
       "    .dataframe tbody tr th:only-of-type {\n",
       "        vertical-align: middle;\n",
       "    }\n",
       "\n",
       "    .dataframe tbody tr th {\n",
       "        vertical-align: top;\n",
       "    }\n",
       "\n",
       "    .dataframe thead th {\n",
       "        text-align: right;\n",
       "    }\n",
       "</style>\n",
       "<table border=\"1\" class=\"dataframe\">\n",
       "  <thead>\n",
       "    <tr style=\"text-align: right;\">\n",
       "      <th></th>\n",
       "      <th>id</th>\n",
       "      <th>title</th>\n",
       "      <th>tags</th>\n",
       "    </tr>\n",
       "  </thead>\n",
       "  <tbody>\n",
       "    <tr>\n",
       "      <th>3737</th>\n",
       "      <td>47452</td>\n",
       "      <td>Love and Death on Long Island</td>\n",
       "      <td>[Giles De'Ath is a widower who doesn't like an...</td>\n",
       "    </tr>\n",
       "    <tr>\n",
       "      <th>4537</th>\n",
       "      <td>30246</td>\n",
       "      <td>Civil Brand</td>\n",
       "      <td>[Forced to work under slave-like conditions in...</td>\n",
       "    </tr>\n",
       "    <tr>\n",
       "      <th>2403</th>\n",
       "      <td>31932</td>\n",
       "      <td>City of Ghosts</td>\n",
       "      <td>[A con man (Dillon) travels to Cambodia (also ...</td>\n",
       "    </tr>\n",
       "    <tr>\n",
       "      <th>4728</th>\n",
       "      <td>18925</td>\n",
       "      <td>Facing the Giants</td>\n",
       "      <td>[A losing coach with an underdog football team...</td>\n",
       "    </tr>\n",
       "    <tr>\n",
       "      <th>1972</th>\n",
       "      <td>10358</td>\n",
       "      <td>Zack and Miri Make a Porno</td>\n",
       "      <td>[Lifelong platonic friends Zack and Miri look ...</td>\n",
       "    </tr>\n",
       "  </tbody>\n",
       "</table>\n",
       "</div>"
      ],
      "text/plain": [
       "         id                          title  \\\n",
       "3737  47452  Love and Death on Long Island   \n",
       "4537  30246                    Civil Brand   \n",
       "2403  31932                 City of Ghosts   \n",
       "4728  18925              Facing the Giants   \n",
       "1972  10358     Zack and Miri Make a Porno   \n",
       "\n",
       "                                                   tags  \n",
       "3737  [Giles De'Ath is a widower who doesn't like an...  \n",
       "4537  [Forced to work under slave-like conditions in...  \n",
       "2403  [A con man (Dillon) travels to Cambodia (also ...  \n",
       "4728  [A losing coach with an underdog football team...  \n",
       "1972  [Lifelong platonic friends Zack and Miri look ...  "
      ]
     },
     "execution_count": 36,
     "metadata": {},
     "output_type": "execute_result"
    }
   ],
   "source": [
    "df.sample(5)"
   ]
  },
  {
   "cell_type": "code",
   "execution_count": 37,
   "id": "09c6b7b5-5195-43e6-bf62-4b9f07b86446",
   "metadata": {},
   "outputs": [
    {
     "name": "stderr",
     "output_type": "stream",
     "text": [
      "/var/folders/5r/svqhb71956990v7rdb94sdmh0000gn/T/ipykernel_18435/949442192.py:1: SettingWithCopyWarning: \n",
      "A value is trying to be set on a copy of a slice from a DataFrame.\n",
      "Try using .loc[row_indexer,col_indexer] = value instead\n",
      "\n",
      "See the caveats in the documentation: https://pandas.pydata.org/pandas-docs/stable/user_guide/indexing.html#returning-a-view-versus-a-copy\n",
      "  df['tags'] = df['tags'].apply(lambda x: \" \".join(x))\n"
     ]
    }
   ],
   "source": [
    "df['tags'] = df['tags'].apply(lambda x: \" \".join(x))"
   ]
  },
  {
   "cell_type": "code",
   "execution_count": 38,
   "id": "7880b243-ba0d-4ca8-b3f2-2382d83e3f5c",
   "metadata": {},
   "outputs": [
    {
     "data": {
      "text/html": [
       "<div>\n",
       "<style scoped>\n",
       "    .dataframe tbody tr th:only-of-type {\n",
       "        vertical-align: middle;\n",
       "    }\n",
       "\n",
       "    .dataframe tbody tr th {\n",
       "        vertical-align: top;\n",
       "    }\n",
       "\n",
       "    .dataframe thead th {\n",
       "        text-align: right;\n",
       "    }\n",
       "</style>\n",
       "<table border=\"1\" class=\"dataframe\">\n",
       "  <thead>\n",
       "    <tr style=\"text-align: right;\">\n",
       "      <th></th>\n",
       "      <th>id</th>\n",
       "      <th>title</th>\n",
       "      <th>tags</th>\n",
       "    </tr>\n",
       "  </thead>\n",
       "  <tbody>\n",
       "    <tr>\n",
       "      <th>3761</th>\n",
       "      <td>47816</td>\n",
       "      <td>3 Strikes</td>\n",
       "      <td>Brian Hooks plays a character who is just rele...</td>\n",
       "    </tr>\n",
       "    <tr>\n",
       "      <th>3149</th>\n",
       "      <td>10306</td>\n",
       "      <td>Poltergeist III</td>\n",
       "      <td>Carol Anne has been sent to live with her Aunt...</td>\n",
       "    </tr>\n",
       "    <tr>\n",
       "      <th>488</th>\n",
       "      <td>9992</td>\n",
       "      <td>Arthur and the Invisibles</td>\n",
       "      <td>Arthur is a spirited ten-year old whose parent...</td>\n",
       "    </tr>\n",
       "    <tr>\n",
       "      <th>1707</th>\n",
       "      <td>26320</td>\n",
       "      <td>Taking Woodstock</td>\n",
       "      <td>The story of Elliot Tiber and his family, who ...</td>\n",
       "    </tr>\n",
       "    <tr>\n",
       "      <th>4795</th>\n",
       "      <td>39851</td>\n",
       "      <td>Clean</td>\n",
       "      <td>After losing her husband to a heroin overdose,...</td>\n",
       "    </tr>\n",
       "  </tbody>\n",
       "</table>\n",
       "</div>"
      ],
      "text/plain": [
       "         id                      title  \\\n",
       "3761  47816                  3 Strikes   \n",
       "3149  10306            Poltergeist III   \n",
       "488    9992  Arthur and the Invisibles   \n",
       "1707  26320           Taking Woodstock   \n",
       "4795  39851                      Clean   \n",
       "\n",
       "                                                   tags  \n",
       "3761  Brian Hooks plays a character who is just rele...  \n",
       "3149  Carol Anne has been sent to live with her Aunt...  \n",
       "488   Arthur is a spirited ten-year old whose parent...  \n",
       "1707  The story of Elliot Tiber and his family, who ...  \n",
       "4795  After losing her husband to a heroin overdose,...  "
      ]
     },
     "execution_count": 38,
     "metadata": {},
     "output_type": "execute_result"
    }
   ],
   "source": [
    "df.sample(5)"
   ]
  },
  {
   "cell_type": "code",
   "execution_count": 39,
   "id": "7cf44028-beb1-4a76-b827-fafdc0086bc0",
   "metadata": {},
   "outputs": [
    {
     "name": "stderr",
     "output_type": "stream",
     "text": [
      "/var/folders/5r/svqhb71956990v7rdb94sdmh0000gn/T/ipykernel_18435/841579467.py:1: SettingWithCopyWarning: \n",
      "A value is trying to be set on a copy of a slice from a DataFrame.\n",
      "Try using .loc[row_indexer,col_indexer] = value instead\n",
      "\n",
      "See the caveats in the documentation: https://pandas.pydata.org/pandas-docs/stable/user_guide/indexing.html#returning-a-view-versus-a-copy\n",
      "  df['tags'] = df['tags'].apply(lambda x:x.lower())\n"
     ]
    }
   ],
   "source": [
    "df['tags'] = df['tags'].apply(lambda x:x.lower())"
   ]
  },
  {
   "cell_type": "code",
   "execution_count": 40,
   "id": "d88c9706-e866-487a-b2d2-1b9d0a94eb6d",
   "metadata": {},
   "outputs": [],
   "source": [
    "from sklearn.feature_extraction.text import CountVectorizer\n",
    "cv = CountVectorizer(max_features = 5000,stop_words = 'english')"
   ]
  },
  {
   "cell_type": "code",
   "execution_count": 41,
   "id": "9d919b15-d275-4a09-a563-1b887d84e70d",
   "metadata": {},
   "outputs": [],
   "source": [
    "vectors = cv.fit_transform(df['tags']).toarray()"
   ]
  },
  {
   "cell_type": "code",
   "execution_count": 45,
   "id": "0305cc49-03d8-47e4-97e6-a556cbf44153",
   "metadata": {},
   "outputs": [
    {
     "data": {
      "text/plain": [
       "array([[0, 0, 0, ..., 0, 0, 0],\n",
       "       [0, 0, 0, ..., 0, 0, 0],\n",
       "       [0, 0, 0, ..., 0, 0, 0],\n",
       "       ...,\n",
       "       [0, 0, 0, ..., 0, 0, 0],\n",
       "       [0, 0, 0, ..., 0, 0, 0],\n",
       "       [0, 0, 0, ..., 0, 0, 0]])"
      ]
     },
     "execution_count": 45,
     "metadata": {},
     "output_type": "execute_result"
    }
   ],
   "source": [
    "vectors"
   ]
  },
  {
   "cell_type": "code",
   "execution_count": 63,
   "id": "f3e326b7-c8c8-483b-96e6-19dedf530275",
   "metadata": {},
   "outputs": [
    {
     "data": {
      "text/plain": [
       "(4806, 5000)"
      ]
     },
     "execution_count": 63,
     "metadata": {},
     "output_type": "execute_result"
    }
   ],
   "source": [
    "vectors.shape"
   ]
  },
  {
   "cell_type": "code",
   "execution_count": 65,
   "id": "7090e063-0768-4e67-93ee-d4ce24a37e34",
   "metadata": {},
   "outputs": [
    {
     "name": "stdout",
     "output_type": "stream",
     "text": [
      "Requirement already satisfied: nltk in /Applications/anaconda3/lib/python3.12/site-packages (3.9.1)\n",
      "Requirement already satisfied: click in /Applications/anaconda3/lib/python3.12/site-packages (from nltk) (8.1.7)\n",
      "Requirement already satisfied: joblib in /Applications/anaconda3/lib/python3.12/site-packages (from nltk) (1.1.1)\n",
      "Requirement already satisfied: regex>=2021.8.3 in /Applications/anaconda3/lib/python3.12/site-packages (from nltk) (2024.9.11)\n",
      "Requirement already satisfied: tqdm in /Applications/anaconda3/lib/python3.12/site-packages (from nltk) (4.66.5)\n",
      "Note: you may need to restart the kernel to use updated packages.\n"
     ]
    }
   ],
   "source": [
    "pip install nltk"
   ]
  },
  {
   "cell_type": "code",
   "execution_count": 68,
   "id": "eedf1252-612c-4777-a4b6-5ef58fe27c5b",
   "metadata": {},
   "outputs": [],
   "source": [
    "import nltk"
   ]
  },
  {
   "cell_type": "code",
   "execution_count": 70,
   "id": "3428bbc2-d0ee-4528-8b56-b9cd85dec5f3",
   "metadata": {},
   "outputs": [],
   "source": [
    "from nltk.stem.porter import PorterStemmer\n",
    "ps = PorterStemmer()"
   ]
  },
  {
   "cell_type": "code",
   "execution_count": 71,
   "id": "48e5eabb-28c2-4c05-9804-0831e07d7464",
   "metadata": {},
   "outputs": [],
   "source": [
    "def stem(text):\n",
    "    y=[ ]\n",
    "    for i in text.split():\n",
    "        y.append(ps.stem(i))\n",
    "    return \" \".join(y)"
   ]
  },
  {
   "cell_type": "code",
   "execution_count": 72,
   "id": "58fbbe32-beb2-428f-b57a-3bab2bda8afe",
   "metadata": {},
   "outputs": [
    {
     "name": "stderr",
     "output_type": "stream",
     "text": [
      "/var/folders/5r/svqhb71956990v7rdb94sdmh0000gn/T/ipykernel_18435/866399325.py:1: SettingWithCopyWarning: \n",
      "A value is trying to be set on a copy of a slice from a DataFrame.\n",
      "Try using .loc[row_indexer,col_indexer] = value instead\n",
      "\n",
      "See the caveats in the documentation: https://pandas.pydata.org/pandas-docs/stable/user_guide/indexing.html#returning-a-view-versus-a-copy\n",
      "  df['tags'] = df['tags'].apply(stem)\n"
     ]
    }
   ],
   "source": [
    "df['tags'] = df['tags'].apply(stem)"
   ]
  },
  {
   "cell_type": "code",
   "execution_count": 73,
   "id": "0b7f1d06-cdce-4b77-8446-c1c1f6dc7e8b",
   "metadata": {},
   "outputs": [
    {
     "data": {
      "text/plain": [
       "array(['000', '007', '10', ..., 'zone', 'zoo', 'zooeydeschanel'],\n",
       "      dtype=object)"
      ]
     },
     "execution_count": 73,
     "metadata": {},
     "output_type": "execute_result"
    }
   ],
   "source": [
    "cv.get_feature_names_out()"
   ]
  },
  {
   "cell_type": "code",
   "execution_count": 74,
   "id": "281f2a68-1e65-459a-9e2a-d05c7b8e5581",
   "metadata": {},
   "outputs": [],
   "source": [
    "from sklearn.metrics.pairwise import cosine_similarity"
   ]
  },
  {
   "cell_type": "code",
   "execution_count": 76,
   "id": "de8eadd3-7032-4ea8-b696-bc4c5d18b899",
   "metadata": {},
   "outputs": [],
   "source": [
    "similarity = cosine_similarity(vectors)"
   ]
  },
  {
   "cell_type": "code",
   "execution_count": 77,
   "id": "89c02df0-410b-44a1-b374-5e4df7ce56f9",
   "metadata": {},
   "outputs": [
    {
     "data": {
      "text/plain": [
       "(4806, 4806)"
      ]
     },
     "execution_count": 77,
     "metadata": {},
     "output_type": "execute_result"
    }
   ],
   "source": [
    "similarity.shape"
   ]
  },
  {
   "cell_type": "code",
   "execution_count": 78,
   "id": "b541d9bc-66ba-4f98-ad12-7100dcb77c80",
   "metadata": {},
   "outputs": [
    {
     "data": {
      "text/plain": [
       "[(539, 0.26089696604360174),\n",
       " (1192, 0.2581988897471611),\n",
       " (507, 0.25302403842552984),\n",
       " (260, 0.25110592822973776),\n",
       " (1214, 0.24944382578492943)]"
      ]
     },
     "execution_count": 78,
     "metadata": {},
     "output_type": "execute_result"
    }
   ],
   "source": [
    "sorted(list(enumerate(similarity[0])),reverse=True,key=lambda x:x[1])[1:6]"
   ]
  },
  {
   "cell_type": "code",
   "execution_count": 82,
   "id": "63b14616-70f1-482a-ac23-ef2317455068",
   "metadata": {},
   "outputs": [],
   "source": [
    "def recommend(movie):\n",
    "    if movie.lower() not in df['title'].str.lower().values:\n",
    "        return f\"Movie '{movie}' not found in dataset.\"\n",
    "\n",
    "    movie_index = df[df['title'].str.lower() == movie.lower()].index[0]\n",
    "    distance = similarity[movie_index]\n",
    "    movie_list = sorted(list(enumerate(distance)), reverse=True, key=lambda x: x[1])[1:6]\n",
    "\n",
    "    for i in movie_list:\n",
    "        print(df.iloc[i[0]]['title'])"
   ]
  },
  {
   "cell_type": "code",
   "execution_count": 92,
   "id": "5b327677-56d4-47e2-a0d2-a7ed54c67008",
   "metadata": {},
   "outputs": [
    {
     "name": "stdout",
     "output_type": "stream",
     "text": [
      "The Dark Knight\n",
      "The Dark Knight Rises\n",
      "Batman\n",
      "Batman & Robin\n",
      "Batman\n"
     ]
    }
   ],
   "source": [
    "recommend('Batman Begins')"
   ]
  },
  {
   "cell_type": "code",
   "execution_count": null,
   "id": "de7d7cfa-8fd0-45cf-9b86-5a5ce042f980",
   "metadata": {},
   "outputs": [],
   "source": [
    "import pickle\n",
    "pickle.dump(df,open('movie_list.pkl' , 'wb'))\n",
    "pickle.dump(similarity,open('similarity.pkl' , 'wb'))"
   ]
  },
  {
   "cell_type": "code",
   "execution_count": null,
   "id": "62211df6-ec3e-4a49-976d-f7dd6d2706e7",
   "metadata": {},
   "outputs": [],
   "source": []
  }
 ],
 "metadata": {
  "kernelspec": {
   "display_name": "Python [conda env:base] *",
   "language": "python",
   "name": "conda-base-py"
  },
  "language_info": {
   "codemirror_mode": {
    "name": "ipython",
    "version": 3
   },
   "file_extension": ".py",
   "mimetype": "text/x-python",
   "name": "python",
   "nbconvert_exporter": "python",
   "pygments_lexer": "ipython3",
   "version": "3.12.7"
  }
 },
 "nbformat": 4,
 "nbformat_minor": 5
}
